{
 "cells": [
  {
   "cell_type": "code",
   "execution_count": 1,
   "metadata": {
    "collapsed": true
   },
   "outputs": [],
   "source": [
    "import disneylandClient.disneyland_pb2\n",
    "from disneylandClient.disneyland_pb2 import Job, RequestWithId, ListJobsRequest"
   ]
  },
  {
   "cell_type": "markdown",
   "metadata": {},
   "source": [
    "USER and WORKER Clients"
   ]
  },
  {
   "cell_type": "code",
   "execution_count": 2,
   "metadata": {
    "collapsed": true
   },
   "outputs": [],
   "source": [
    "user_client = disneylandClient.new_client()\n",
    "worker_client = disneylandClient.new_client_from_path(\"/Users/macbook/.disney/config2.yml\")"
   ]
  },
  {
   "cell_type": "markdown",
   "metadata": {},
   "source": [
    "# User examples"
   ]
  },
  {
   "cell_type": "markdown",
   "metadata": {},
   "source": [
    "Create Job"
   ]
  },
  {
   "cell_type": "code",
   "execution_count": 3,
   "metadata": {
    "scrolled": true
   },
   "outputs": [
    {
     "name": "stdout",
     "output_type": "stream",
     "text": [
      "success\n",
      "project: \"ship-shield\"\n",
      "id: 1\n",
      "\n"
     ]
    }
   ],
   "source": [
    "created_job = user_client.CreateJob(Job())\n",
    "print(\"success\\n{0}\".format(created_job))"
   ]
  },
  {
   "cell_type": "markdown",
   "metadata": {},
   "source": [
    "Modify Job"
   ]
  },
  {
   "cell_type": "code",
   "execution_count": 4,
   "metadata": {},
   "outputs": [
    {
     "name": "stdout",
     "output_type": "stream",
     "text": [
      "success\n",
      "project: \"ship-shield\"\n",
      "id: 1\n",
      "kind: \"docker\"\n",
      "metadata: \"meta_test\"\n",
      "\n"
     ]
    }
   ],
   "source": [
    "created_job.status = Job.PENDING\n",
    "created_job.metadata = \"meta_test\"\n",
    "created_job.kind = \"docker\"\n",
    "\n",
    "updated_job = user_client.ModifyJob(created_job)\n",
    "print(\"success\\n{0}\".format(updated_job))"
   ]
  },
  {
   "cell_type": "markdown",
   "metadata": {},
   "source": [
    "Create Job with params"
   ]
  },
  {
   "cell_type": "code",
   "execution_count": 5,
   "metadata": {},
   "outputs": [
    {
     "name": "stdout",
     "output_type": "stream",
     "text": [
      "success\n",
      "project: \"ship-shield\"\n",
      "id: 2\n",
      "kind: \"tester\"\n",
      "input: \"python-client-input\"\n",
      "output: \"python-client-output\"\n",
      "metadata: \"vs\"\n",
      "\n"
     ]
    }
   ],
   "source": [
    "job = Job(metadata=\"vs\", input=\"python-client-input\", output=\"python-client-output\", kind=\"tester\")\n",
    "created_job = user_client.CreateJob(job)\n",
    "print(\"success\\n{0}\".format(created_job))"
   ]
  },
  {
   "cell_type": "markdown",
   "metadata": {},
   "source": [
    "Get Job"
   ]
  },
  {
   "cell_type": "code",
   "execution_count": 6,
   "metadata": {
    "scrolled": true
   },
   "outputs": [
    {
     "name": "stdout",
     "output_type": "stream",
     "text": [
      "success\n",
      "project: \"ship-shield\"\n",
      "id: 2\n",
      "kind: \"tester\"\n",
      "input: \"python-client-input\"\n",
      "output: \"python-client-output\"\n",
      "metadata: \"vs\"\n",
      "\n"
     ]
    }
   ],
   "source": [
    "read_job = user_client.GetJob(RequestWithId(id=created_job.id))\n",
    "disneylandClient.check_jobs_equal(created_job, read_job)\n",
    "print(\"success\\n{0}\".format(read_job))"
   ]
  },
  {
   "cell_type": "markdown",
   "metadata": {},
   "source": [
    "get list of jobs"
   ]
  },
  {
   "cell_type": "code",
   "execution_count": 7,
   "metadata": {
    "scrolled": true
   },
   "outputs": [
    {
     "name": "stdout",
     "output_type": "stream",
     "text": [
      "success\n",
      "jobs {\n",
      "  project: \"ship-shield\"\n",
      "  id: 1\n",
      "  kind: \"docker\"\n",
      "  metadata: \"meta_test\"\n",
      "}\n",
      "\n"
     ]
    }
   ],
   "source": [
    "all_jobs = user_client.ListJobs(ListJobsRequest(how_many=1))\n",
    "if len(all_jobs.jobs) > 0:\n",
    "    print(\"success\\n{0}\".format(all_jobs))"
   ]
  },
  {
   "cell_type": "markdown",
   "metadata": {},
   "source": [
    "Pull pending jobs"
   ]
  },
  {
   "cell_type": "code",
   "execution_count": 8,
   "metadata": {
    "scrolled": false
   },
   "outputs": [
    {
     "name": "stdout",
     "output_type": "stream",
     "text": [
      "success\n",
      "jobs {\n",
      "  project: \"ship-shield\"\n",
      "  id: 1\n",
      "  kind: \"docker\"\n",
      "  status: PULLED\n",
      "  metadata: \"meta_test\"\n",
      "}\n",
      "jobs {\n",
      "  project: \"ship-shield\"\n",
      "  id: 2\n",
      "  kind: \"tester\"\n",
      "  status: PULLED\n",
      "  input: \"python-client-input\"\n",
      "  output: \"python-client-output\"\n",
      "  metadata: \"vs\"\n",
      "}\n",
      "\n"
     ]
    }
   ],
   "source": [
    "pulled_jobs = user_client.PullPendingJobs(ListJobsRequest(how_many=3))\n",
    "if len(pulled_jobs.jobs) > 0:\n",
    "    print(\"success\\n{0}\".format(pulled_jobs))"
   ]
  },
  {
   "cell_type": "markdown",
   "metadata": {},
   "source": [
    "Create Job with params"
   ]
  },
  {
   "cell_type": "code",
   "execution_count": 9,
   "metadata": {},
   "outputs": [
    {
     "name": "stdout",
     "output_type": "stream",
     "text": [
      "success\n",
      "project: \"ship-shield\"\n",
      "id: 3\n",
      "kind: \"docker\"\n",
      "\n"
     ]
    }
   ],
   "source": [
    "created_job = user_client.CreateJob(Job(kind=\"docker\"))\n",
    "print(\"success\\n{0}\".format(created_job))"
   ]
  },
  {
   "cell_type": "markdown",
   "metadata": {},
   "source": [
    "Delete Job"
   ]
  },
  {
   "cell_type": "code",
   "execution_count": 10,
   "metadata": {},
   "outputs": [
    {
     "name": "stdout",
     "output_type": "stream",
     "text": [
      "success\n",
      "project: \"ship-shield\"\n",
      "id: 1\n",
      "kind: \"docker\"\n",
      "\n"
     ]
    }
   ],
   "source": [
    "deleted_job = user_client.DeleteJob(RequestWithId(id=1))\n",
    "print(\"success\\n{0}\".format(deleted_job))"
   ]
  },
  {
   "cell_type": "markdown",
   "metadata": {
    "collapsed": true
   },
   "source": [
    "# Worker examples"
   ]
  },
  {
   "cell_type": "markdown",
   "metadata": {},
   "source": [
    "Get Job"
   ]
  },
  {
   "cell_type": "code",
   "execution_count": 11,
   "metadata": {},
   "outputs": [
    {
     "name": "stdout",
     "output_type": "stream",
     "text": [
      "success\n",
      "project: \"ship-shield\"\n",
      "id: 3\n",
      "kind: \"docker\"\n",
      "\n"
     ]
    }
   ],
   "source": [
    "read_job = worker_client.GetJob(RequestWithId(id=3))\n",
    "print(\"success\\n{0}\".format(read_job))"
   ]
  },
  {
   "cell_type": "markdown",
   "metadata": {},
   "source": [
    "Modify Job"
   ]
  },
  {
   "cell_type": "code",
   "execution_count": 12,
   "metadata": {},
   "outputs": [
    {
     "name": "stdout",
     "output_type": "stream",
     "text": [
      "success\n",
      "project: \"ship-shield\"\n",
      "id: 3\n",
      "kind: \"docker\"\n",
      "metadata: \"worker_test\"\n",
      "\n"
     ]
    }
   ],
   "source": [
    "read_job.input = \"worker-input\"\n",
    "read_job.metadata = \"worker_test\"\n",
    "\n",
    "updated_job = worker_client.ModifyJob(read_job)\n",
    "print(\"success\\n{0}\".format(updated_job))"
   ]
  },
  {
   "cell_type": "markdown",
   "metadata": {},
   "source": [
    "Pull Jobs"
   ]
  },
  {
   "cell_type": "code",
   "execution_count": 13,
   "metadata": {},
   "outputs": [
    {
     "name": "stdout",
     "output_type": "stream",
     "text": [
      "success\n",
      "jobs {\n",
      "  project: \"ship-shield\"\n",
      "  id: 3\n",
      "  kind: \"docker\"\n",
      "  status: PULLED\n",
      "  metadata: \"worker_test\"\n",
      "}\n",
      "\n"
     ]
    }
   ],
   "source": [
    "pulled_jobs = worker_client.PullPendingJobs(ListJobsRequest(how_many=3))\n",
    "if len(pulled_jobs.jobs) > 0:\n",
    "    print(\"success\\n{0}\".format(pulled_jobs))"
   ]
  },
  {
   "cell_type": "code",
   "execution_count": null,
   "metadata": {
    "collapsed": true
   },
   "outputs": [],
   "source": []
  }
 ],
 "metadata": {
  "kernelspec": {
   "display_name": "Python 2",
   "language": "python",
   "name": "python2"
  },
  "language_info": {
   "codemirror_mode": {
    "name": "ipython",
    "version": 2
   },
   "file_extension": ".py",
   "mimetype": "text/x-python",
   "name": "python",
   "nbconvert_exporter": "python",
   "pygments_lexer": "ipython2",
   "version": "2.7.14"
  }
 },
 "nbformat": 4,
 "nbformat_minor": 2
}
